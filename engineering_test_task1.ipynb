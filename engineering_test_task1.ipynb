{
 "cells": [
  {
   "cell_type": "markdown",
   "metadata": {
    "colab_type": "text",
    "id": "alRZd6piQmeF"
   },
   "source": [
    "\n",
    "#**Image classification using CNNs**\n",
    "\n",
    "\n",
    "\n",
    "\n",
    "\n",
    "\n",
    "\n",
    "\n",
    "\n",
    "\n"
   ]
  },
  {
   "cell_type": "markdown",
   "metadata": {
    "colab_type": "text",
    "id": "3GPqCTKnQxL0"
   },
   "source": [
    "**Description :**\n",
    "\n",
    "\n",
    "\n",
    "\n",
    "Given different images of cars , we want to create a convolution neural network that can classify whether a car is damaged or not .\n",
    "Dataset contains 1840 image labeled and was taken from kaggle . \n",
    "\n",
    "**TO DO :**\n",
    "\n",
    "1.Exploratory data analysis.\n",
    "\n",
    "2.Build your own CNN architecture to classify the images and evaluate it. \n",
    "\n",
    "3.Use Transfer learning to do the same task.\n",
    "\n",
    "\n",
    "To get your API : go to Kaggle.com --> my account (top right click on the profile pic) --> scroll down to \"create API token\"\n",
    "\n"
   ]
  },
  {
   "cell_type": "markdown",
   "metadata": {
    "colab_type": "text",
    "id": "p--GnN8Vdcmd"
   },
   "source": [
    "\n",
    "#**Importing data**"
   ]
  },
  {
   "cell_type": "code",
   "execution_count": 0,
   "metadata": {
    "colab": {},
    "colab_type": "code",
    "id": "Fj5812c3Umms"
   },
   "outputs": [],
   "source": [
    "#upload your kaggle.json file \n",
    "!pip install kaggle\n",
    "!mkdir /root/.kaggle\n",
    "!cp kaggle.json /root/.kaggle\n",
    "#command to get data from kaggle \n",
    "!kaggle datasets download -d datacolab/car-damage-classification"
   ]
  },
  {
   "cell_type": "markdown",
   "metadata": {
    "colab_type": "text",
    "id": "o1pGOuk8wJEw"
   },
   "source": [
    "# **Exploratory data analysis**"
   ]
  },
  {
   "cell_type": "code",
   "execution_count": 0,
   "metadata": {
    "colab": {},
    "colab_type": "code",
    "id": "H7c453snwMvp"
   },
   "outputs": [],
   "source": []
  },
  {
   "cell_type": "markdown",
   "metadata": {
    "colab_type": "text",
    "id": "fUM2s7g8wQHh"
   },
   "source": [
    "# **Your own CNN architecture**"
   ]
  },
  {
   "cell_type": "code",
   "execution_count": 0,
   "metadata": {
    "colab": {},
    "colab_type": "code",
    "id": "H9Lzk3OUwZ5N"
   },
   "outputs": [],
   "source": []
  },
  {
   "cell_type": "markdown",
   "metadata": {
    "colab_type": "text",
    "id": "2AUwhgVrwbAf"
   },
   "source": [
    "# **Transfer learning**"
   ]
  },
  {
   "cell_type": "code",
   "execution_count": 0,
   "metadata": {
    "colab": {},
    "colab_type": "code",
    "id": "wX_4bPhAwd40"
   },
   "outputs": [],
   "source": []
  }
 ],
 "metadata": {
  "colab": {
   "collapsed_sections": [
    "p--GnN8Vdcmd",
    "o1pGOuk8wJEw",
    "fUM2s7g8wQHh",
    "2AUwhgVrwbAf"
   ],
   "name": "Test CNN.ipynb",
   "provenance": [],
   "toc_visible": true
  },
  "kernelspec": {
   "display_name": "Python 3",
   "language": "python",
   "name": "python3"
  },
  "language_info": {
   "codemirror_mode": {
    "name": "ipython",
    "version": 3
   },
   "file_extension": ".py",
   "mimetype": "text/x-python",
   "name": "python",
   "nbconvert_exporter": "python",
   "pygments_lexer": "ipython3",
   "version": "3.7.3"
  }
 },
 "nbformat": 4,
 "nbformat_minor": 1
}
